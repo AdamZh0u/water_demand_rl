{
 "cells": [
  {
   "cell_type": "code",
   "execution_count": 6,
   "metadata": {},
   "outputs": [],
   "source": [
    "%reload_ext autoreload\n",
    "%autoreload 2\n",
    "import wandb\n",
    "import pandas as pd \n",
    "import torch\n",
    "import numpy as np\n",
    "import random \n",
    "import src.const as const\n",
    "import src.env.env_basic as env_basic\n",
    "import src.agents.agent_greedy as agent_greedy\n",
    "import src.agents.agent_nerdy as agent_nerdy\n",
    "import src.simulation.water_demands as wd "
   ]
  },
  {
   "cell_type": "markdown",
   "metadata": {},
   "source": [
    "## agent nerdy "
   ]
  },
  {
   "cell_type": "code",
   "execution_count": 7,
   "metadata": {},
   "outputs": [],
   "source": [
    "seed = 41\n",
    "num_leaks = 12\n",
    "df = wd.load(seed, num_leaks)"
   ]
  },
  {
   "cell_type": "code",
   "execution_count": null,
   "metadata": {},
   "outputs": [],
   "source": [
    "args = {\n",
    "    'seed': seed,\n",
    "    'num_leaks': num_leaks,\n",
    "}\n",
    "\n",
    "run = wandb.init(name=f'agent_always',project= 'cege_test', config=args, monitor_gym=True)\n",
    "\n",
    "# test on last 30 days\n",
    "env = env_basic.WaterLeakEnv(df, train=False)\n",
    "agent = agent_nerdy.AgentAlways()\n",
    "\n",
    "_obs = env.reset()\n",
    "done = False\n",
    "\n",
    "sum_rewards = 0\n",
    "while not done:\n",
    "    action = agent.get_action()\n",
    "    _obs, reward, done, info = env.step(action)\n",
    "\n",
    "    # log to wandb\n",
    "    sum_rewards += reward\n",
    "    run.log({'tindex': info['step']-17520, 'taction': action, \"treward\": reward, 'tsum_rewards': sum_rewards})\n",
    "run.finish()"
   ]
  },
  {
   "cell_type": "code",
   "execution_count": null,
   "metadata": {},
   "outputs": [],
   "source": [
    "args = {\n",
    "    'seed': seed,\n",
    "    'num_leaks': num_leaks,\n",
    "}\n",
    "\n",
    "run = wandb.init(name=f'agent_never',project= 'cege_test', config=args, monitor_gym=True)\n",
    "\n",
    "# test on last 30 days\n",
    "env = env_basic.WaterLeakEnv(df, train=False)\n",
    "agent = agent_nerdy.AgentNever()\n",
    "\n",
    "_obs = env.reset()\n",
    "done = False\n",
    "\n",
    "sum_rewards = 0\n",
    "while not done:\n",
    "    action = agent.get_action()\n",
    "    _obs, reward, done, info = env.step(action)\n",
    "\n",
    "    # log to wandb\n",
    "    sum_rewards += reward\n",
    "    run.log({'tindex': info['step']-17520, 'taction': action, \"treward\": reward, 'tsum_rewards': sum_rewards})\n",
    "run.finish()"
   ]
  },
  {
   "cell_type": "markdown",
   "metadata": {},
   "source": [
    "## agent greedy"
   ]
  },
  {
   "cell_type": "code",
   "execution_count": 18,
   "metadata": {},
   "outputs": [],
   "source": [
    "seed = 41\n",
    "num_leaks = 12\n",
    "df = wd.load(seed, num_leaks)\n",
    "epochs = 10"
   ]
  },
  {
   "cell_type": "code",
   "execution_count": 19,
   "metadata": {},
   "outputs": [
    {
     "data": {
      "text/html": [
       "Tracking run with wandb version 0.17.4"
      ],
      "text/plain": [
       "<IPython.core.display.HTML object>"
      ]
     },
     "metadata": {},
     "output_type": "display_data"
    },
    {
     "data": {
      "text/html": [
       "Run data is saved locally in <code>/Users/adamzh0u/315_RL/cege_test/wandb/run-20240707_053058-25rlvpr8</code>"
      ],
      "text/plain": [
       "<IPython.core.display.HTML object>"
      ]
     },
     "metadata": {},
     "output_type": "display_data"
    },
    {
     "data": {
      "text/html": [
       "Syncing run <strong><a href='https://wandb.ai/adamzh0u/cege_test/runs/25rlvpr8' target=\"_blank\">agent_greedy_eps0.4_epoch10</a></strong> to <a href='https://wandb.ai/adamzh0u/cege_test' target=\"_blank\">Weights & Biases</a> (<a href='https://wandb.me/run' target=\"_blank\">docs</a>)<br/>"
      ],
      "text/plain": [
       "<IPython.core.display.HTML object>"
      ]
     },
     "metadata": {},
     "output_type": "display_data"
    },
    {
     "data": {
      "text/html": [
       " View project at <a href='https://wandb.ai/adamzh0u/cege_test' target=\"_blank\">https://wandb.ai/adamzh0u/cege_test</a>"
      ],
      "text/plain": [
       "<IPython.core.display.HTML object>"
      ]
     },
     "metadata": {},
     "output_type": "display_data"
    },
    {
     "data": {
      "text/html": [
       " View run at <a href='https://wandb.ai/adamzh0u/cege_test/runs/25rlvpr8' target=\"_blank\">https://wandb.ai/adamzh0u/cege_test/runs/25rlvpr8</a>"
      ],
      "text/plain": [
       "<IPython.core.display.HTML object>"
      ]
     },
     "metadata": {},
     "output_type": "display_data"
    },
    {
     "name": "stdout",
     "output_type": "stream",
     "text": [
      "record dumped to data/train/eps_greedy_record.npy\n",
      "record loaded from data/train/eps_greedy_record.npy\n"
     ]
    },
    {
     "data": {
      "application/vnd.jupyter.widget-view+json": {
       "model_id": "0bfd4e77a8d84bec9a6afcd66e554752",
       "version_major": 2,
       "version_minor": 0
      },
      "text/plain": [
       "VBox(children=(Label(value='0.001 MB of 0.001 MB uploaded\\r'), FloatProgress(value=1.0, max=1.0)))"
      ]
     },
     "metadata": {},
     "output_type": "display_data"
    },
    {
     "data": {
      "text/html": [
       "<style>\n",
       "    table.wandb td:nth-child(1) { padding: 0 10px; text-align: left ; width: auto;} td:nth-child(2) {text-align: left ; width: 100%}\n",
       "    .wandb-row { display: flex; flex-direction: row; flex-wrap: wrap; justify-content: flex-start; width: 100% }\n",
       "    .wandb-col { display: flex; flex-direction: column; flex-basis: 100%; flex: 1; padding: 10px; }\n",
       "    </style>\n",
       "<div class=\"wandb-row\"><div class=\"wandb-col\"><h3>Run history:</h3><br/><table class=\"wandb\"><tr><td>action</td><td>▁▁▁▁▁▁▁▁▁▁▁▁▁▁▁█▁▁▁█▁▁█▁██▁▁▁▁▁▁█▁▁▁█▁▁█</td></tr><tr><td>index</td><td>▂▄▅▇▁▃▅▇▁▃▆█▂▃▅▇▁▃▅▇▂▄▆█▁▃▅▇▁▃▆█▂▄▆▇▁▃▅█</td></tr><tr><td>reward</td><td>███████████████▁███▁██▁█▁▁██████▁███▁██▁</td></tr><tr><td>sum_rewards</td><td>███▇▇▇▇▇▇▆▆▆▆▆▅▅▅▅▅▅▄▄▄▄▄▄▃▃▃▃▃▃▂▂▂▂▂▁▁▁</td></tr><tr><td>taction</td><td>█▁▁▁▁▁▁▁▁▁█▁▁▁█▁▁▁▁▁▁▁█▁▁▁▁▁▁▁▁▁█▁█▁▁▁▁▁</td></tr><tr><td>tindex</td><td>▁▁▁▁▂▂▂▂▂▃▃▃▃▃▃▄▄▄▄▄▅▅▅▅▅▅▆▆▆▆▆▇▇▇▇▇▇███</td></tr><tr><td>treward</td><td>▁█████████▁███▁███████▁█████████▁█▁█████</td></tr><tr><td>tsum_rewards</td><td>██▇▇▇▇▇▇▆▇▇▇▆▆▆▇▆▆▅▅▅▅▄▄▄▄▄▄▃▃▃▃▂▂▂▂▂▂▁▁</td></tr></table><br/></div><div class=\"wandb-col\"><h3>Run summary:</h3><br/><table class=\"wandb\"><tr><td>action</td><td>0</td></tr><tr><td>index</td><td>17520</td></tr><tr><td>reward</td><td>1</td></tr><tr><td>sum_rewards</td><td>-38940</td></tr><tr><td>taction</td><td>0</td></tr><tr><td>tindex</td><td>2879</td></tr><tr><td>treward</td><td>1</td></tr><tr><td>tsum_rewards</td><td>-612</td></tr></table><br/></div></div>"
      ],
      "text/plain": [
       "<IPython.core.display.HTML object>"
      ]
     },
     "metadata": {},
     "output_type": "display_data"
    },
    {
     "data": {
      "text/html": [
       " View run <strong style=\"color:#cdcd00\">agent_greedy_eps0.4_epoch10</strong> at: <a href='https://wandb.ai/adamzh0u/cege_test/runs/25rlvpr8' target=\"_blank\">https://wandb.ai/adamzh0u/cege_test/runs/25rlvpr8</a><br/> View project at: <a href='https://wandb.ai/adamzh0u/cege_test' target=\"_blank\">https://wandb.ai/adamzh0u/cege_test</a><br/>Synced 6 W&B file(s), 0 media file(s), 0 artifact file(s) and 0 other file(s)"
      ],
      "text/plain": [
       "<IPython.core.display.HTML object>"
      ]
     },
     "metadata": {},
     "output_type": "display_data"
    },
    {
     "data": {
      "text/html": [
       "Find logs at: <code>./wandb/run-20240707_053058-25rlvpr8/logs</code>"
      ],
      "text/plain": [
       "<IPython.core.display.HTML object>"
      ]
     },
     "metadata": {},
     "output_type": "display_data"
    },
    {
     "data": {
      "text/html": [
       "The new W&B backend becomes opt-out in version 0.18.0; try it out with `wandb.require(\"core\")`! See https://wandb.me/wandb-core for more information."
      ],
      "text/plain": [
       "<IPython.core.display.HTML object>"
      ]
     },
     "metadata": {},
     "output_type": "display_data"
    }
   ],
   "source": [
    "args = {\n",
    "    'seed': seed,\n",
    "    'num_leaks': num_leaks,\n",
    "    'eps': 0,\n",
    "    'epochs': epochs\n",
    "}\n",
    "\n",
    "\n",
    "for eps in [0.01, 0.05, 0.1, 0.2, 0.4]:\n",
    "    args['eps'] = eps\n",
    "\n",
    "    run = wandb.init(name=f'agent_greedy_eps{eps}_epoch{epochs}',project= 'cege_test', config=args, monitor_gym=True)\n",
    "\n",
    "    env = env_basic.WaterLeakEnv(df, train=True)\n",
    "    agent = agent_greedy.AgentGreedy()\n",
    "    # train \n",
    "    sum_rewards = 0\n",
    "    for i in range(epochs):\n",
    "        _obs = env.reset()\n",
    "        done = False\n",
    "        while not done:\n",
    "            action = agent.get_action(eps=eps)\n",
    "            _obs, reward, done, info = env.step(action)\n",
    "            agent.update_record(action, reward)\n",
    "\n",
    "            # log to wandb\n",
    "            sum_rewards += reward\n",
    "            run.log({'index': info['step'], 'action': action, \"reward\": reward, 'sum_rewards': sum_rewards})\n",
    "        # dump record each epoch\n",
    "        run.log({'record': agent.record})\n",
    "    # memory dump\n",
    "    agent.dump_record()\n",
    "\n",
    "    # test on last 30 days\n",
    "    env = env_basic.WaterLeakEnv(df, train=False)\n",
    "    agent = agent_greedy.AgentGreedy()\n",
    "    agent.load_record() # load memory\n",
    "\n",
    "    _obs = env.reset()\n",
    "    done = False\n",
    "\n",
    "    sum_rewards = 0\n",
    "    while not done:\n",
    "        action = agent.get_action(eps=eps)\n",
    "        _obs, reward, done, info = env.step(action)\n",
    "        \n",
    "        # log to wandb\n",
    "        sum_rewards += reward\n",
    "        run.log({'tindex': info['step']-17520, 'taction': action, \"treward\": reward, 'tsum_rewards': sum_rewards})\n",
    "    run.finish()"
   ]
  },
  {
   "cell_type": "markdown",
   "metadata": {},
   "source": [
    "## agent dqn"
   ]
  },
  {
   "cell_type": "code",
   "execution_count": null,
   "metadata": {},
   "outputs": [],
   "source": []
  },
  {
   "cell_type": "code",
   "execution_count": null,
   "metadata": {},
   "outputs": [],
   "source": []
  }
 ],
 "metadata": {
  "kernelspec": {
   "display_name": "py310_dl",
   "language": "python",
   "name": "python3"
  },
  "language_info": {
   "codemirror_mode": {
    "name": "ipython",
    "version": 3
   },
   "file_extension": ".py",
   "mimetype": "text/x-python",
   "name": "python",
   "nbconvert_exporter": "python",
   "pygments_lexer": "ipython3",
   "version": "3.10.14"
  }
 },
 "nbformat": 4,
 "nbformat_minor": 2
}
