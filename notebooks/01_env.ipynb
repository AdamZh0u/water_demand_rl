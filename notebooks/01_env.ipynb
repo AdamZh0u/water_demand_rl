{
 "cells": [
  {
   "cell_type": "code",
   "execution_count": null,
   "metadata": {},
   "outputs": [],
   "source": [
    "%reload_ext autoreload\n",
    "%autoreload 2\n",
    "\n",
    "import random\n",
    "import pandas as pd\n",
    "import numpy as np\n",
    "import matplotlib.pyplot as plt\n",
    "from pathlib import Path\n",
    "\n",
    "from src import const\n",
    "import src.simulation.water_demands as wd\n",
    "import src.utils.plot_utils as pu\n",
    "\n",
    "_ = pu.setup_mpl(as_default=0)\n",
    "\n",
    "Path.cwd()"
   ]
  },
  {
   "cell_type": "markdown",
   "metadata": {},
   "source": [
    "## Test award function and distribution"
   ]
  },
  {
   "cell_type": "code",
   "execution_count": null,
   "metadata": {},
   "outputs": [],
   "source": [
    "dft2 = wd.load(seed = 243, num_leaks=12)"
   ]
  },
  {
   "cell_type": "code",
   "execution_count": null,
   "metadata": {},
   "outputs": [],
   "source": [
    "dft2['Timestamp'] = pd.to_datetime(dft2['Timestamp'])\n",
    "dft2['hour'] = dft2['Timestamp'].dt.hour\n",
    "\n",
    "traffic_flow = np.array([20,15,10,10,10,20,\n",
    "                        30,50,70,100, 90,80, \n",
    "                        60,55,50,50,60,90,\n",
    "                        95,70,60,40,30,20\n",
    "                        ])\n",
    "dft2['TrafficFlow'] = traffic_flow[dft2['hour'].values]\n",
    "\n",
    "# downtime_cost : rolling following 1 hour\n",
    "dft2['a_downtime_award'] = -dft2['WaterDemandWithLeaks'].rolling(window=4).sum().shift(-3)\n",
    "dft2['a_congestion_award'] = -dft2['TrafficFlow']*0.15\n",
    "dft2['a_environmental_award'] = -np.log1p(dft2['LeakageLabel'].rolling(window=12).sum())\n",
    "dft2['a_fix_award'] =  np.log1p(dft2['LeakageLabel'].rolling(window=12).sum().shift(-11).sum())\n",
    "dft2['a_total_award'] = 8 + dft2['a_downtime_award'] + dft2['a_congestion_award'] + dft2['a_environmental_award'] + dft2['a_fix_award']\n",
    "\n",
    "dft2['n_leakage_award'] = -dft2['WaterDemandWithLeaks'].rolling(window=12).sum().shift(-11)\n",
    "dft2['n_environmental_award'] = -np.log1p(dft2['LeakageLabel'].rolling(window=7*24*4).sum())\n",
    "dft2['n_total_award'] = dft2['n_leakage_award'] + dft2['n_environmental_award'] - 8\n",
    "\n",
    "# mean fill na\n",
    "dft2.fillna(dft2.mean(), inplace=True)"
   ]
  },
  {
   "cell_type": "code",
   "execution_count": null,
   "metadata": {},
   "outputs": [],
   "source": [
    "fig, ax = plt.subplots(1,2, figsize=(3.602361*2, 3.5),dpi=300)\n",
    "time = np.arange(0, 24, 1)\n",
    "ax[0].plot(time, traffic_flow, label='Traffic Flow', color='black')\n",
    "ax[0].set_xlabel('Time of Day (hours)')\n",
    "ax[0].set_ylabel('Traffic Flow')\n",
    "ax[0].set_title('Assumed Traffic Flow Distribution Over a Day')\n",
    "ax[0].grid(True)\n",
    "ax[0].set_xlim(0, 23)\n",
    "\n",
    "ax[1].grid(True)\n",
    "ax[1].hist(dft2['a_total_award'], bins=80, label='Action when Leakages')\n",
    "\n",
    "ax[1].hist(dft2['n_total_award'], bins=80, label='No Action when Leakages')\n",
    "ax[1].set_title(' Constructed Reward Distribution') # 构建的奖励函数\n",
    "\n",
    "# ax.set_yscale('log')\n",
    "ax[1].set_xlabel('Reward')\n",
    "ax[1].set_ylabel('Frequency')\n",
    "ax[1].legend(frameon=False)\n",
    "ax[1].set_xlim(-15, 15)\n",
    "ax[1].set_ylim(0, 1600)\n",
    "for i in range(2):\n",
    "    # label A B \n",
    "    ax[i].text(-0.1, 1.05, chr(65+i), transform=ax[i].transAxes,\n",
    "            size=12, weight='bold')\n",
    "\n",
    "# save \n",
    "fig.savefig('fig/award_distribution.png')"
   ]
  },
  {
   "cell_type": "markdown",
   "metadata": {},
   "source": [
    "## Test EnvComplexR"
   ]
  },
  {
   "cell_type": "code",
   "execution_count": null,
   "metadata": {},
   "outputs": [],
   "source": []
  },
  {
   "cell_type": "code",
   "execution_count": null,
   "metadata": {},
   "outputs": [],
   "source": [
    "import src.env.env_basic as env_basic\n",
    "import src.simulation.water_demands as wd\n",
    "\n",
    "dft = wd.load(243, 12)\n",
    "\n",
    "env = env_basic.EnvComplexaR(dft)\n",
    "env.reset()\n"
   ]
  },
  {
   "cell_type": "code",
   "execution_count": null,
   "metadata": {},
   "outputs": [],
   "source": [
    "for i in range(10000):\n",
    "    r = env.step(0)[1]\n",
    "    if r ==0.1:\n",
    "        pass\n",
    "    else:\n",
    "        print(r)\n",
    "        break"
   ]
  }
 ],
 "metadata": {
  "kernelspec": {
   "display_name": "py310",
   "language": "python",
   "name": "python3"
  },
  "language_info": {
   "codemirror_mode": {
    "name": "ipython",
    "version": 3
   },
   "file_extension": ".py",
   "mimetype": "text/x-python",
   "name": "python",
   "nbconvert_exporter": "python",
   "pygments_lexer": "ipython3",
   "version": "3.10.14"
  }
 },
 "nbformat": 4,
 "nbformat_minor": 2
}
