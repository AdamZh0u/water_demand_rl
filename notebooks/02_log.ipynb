{
 "cells": [
  {
   "cell_type": "code",
   "execution_count": 156,
   "metadata": {},
   "outputs": [],
   "source": [
    "%reload_ext autoreload\n",
    "%autoreload 2\n",
    "import wandb\n",
    "import pandas as pd \n",
    "import torch\n",
    "import numpy as np\n",
    "import random \n",
    "\n",
    "import src.const as const\n",
    "import src.env.env_basic as env_basic\n",
    "import src.agents.agent_greedy as agent_greedy\n",
    "import src.agents.agent_nerdy as agent_nerdy\n",
    "import src.agents.agent_ppo as agent_ppo\n",
    "import src.simulation.water_demands as wd "
   ]
  },
  {
   "cell_type": "markdown",
   "metadata": {},
   "source": [
    "## agent nerdy "
   ]
  },
  {
   "cell_type": "code",
   "execution_count": 193,
   "metadata": {},
   "outputs": [
    {
     "ename": "AttributeError",
     "evalue": "'NoneType' object has no attribute 'name'",
     "output_type": "error",
     "traceback": [
      "\u001b[0;31m---------------------------------------------------------------------------\u001b[0m",
      "\u001b[0;31mAttributeError\u001b[0m                            Traceback (most recent call last)",
      "Cell \u001b[0;32mIn[193], line 1\u001b[0m\n\u001b[0;32m----> 1\u001b[0m \u001b[43mwandb\u001b[49m\u001b[38;5;241;43m.\u001b[39;49m\u001b[43mrun\u001b[49m\u001b[38;5;241;43m.\u001b[39;49m\u001b[43mname\u001b[49m\n",
      "\u001b[0;31mAttributeError\u001b[0m: 'NoneType' object has no attribute 'name'"
     ]
    }
   ],
   "source": []
  },
  {
   "cell_type": "code",
   "execution_count": 146,
   "metadata": {},
   "outputs": [],
   "source": [
    "seed = 142\n",
    "num_leaks = 12\n",
    "df = wd.load(seed, num_leaks)"
   ]
  },
  {
   "cell_type": "code",
   "execution_count": 63,
   "metadata": {},
   "outputs": [
    {
     "data": {
      "text/html": [
       "Finishing last run (ID:rj21nzzs) before initializing another..."
      ],
      "text/plain": [
       "<IPython.core.display.HTML object>"
      ]
     },
     "metadata": {},
     "output_type": "display_data"
    },
    {
     "data": {
      "application/vnd.jupyter.widget-view+json": {
       "model_id": "183eac3ae6fa419c94a591b12554c869",
       "version_major": 2,
       "version_minor": 0
      },
      "text/plain": [
       "VBox(children=(Label(value='0.011 MB of 0.011 MB uploaded\\r'), FloatProgress(value=1.0, max=1.0)))"
      ]
     },
     "metadata": {},
     "output_type": "display_data"
    },
    {
     "data": {
      "text/html": [
       " View run <strong style=\"color:#cdcd00\">agent_always</strong> at: <a href='https://wandb.ai/adamzh0u/cege_test/runs/rj21nzzs' target=\"_blank\">https://wandb.ai/adamzh0u/cege_test/runs/rj21nzzs</a><br/> View project at: <a href='https://wandb.ai/adamzh0u/cege_test' target=\"_blank\">https://wandb.ai/adamzh0u/cege_test</a><br/>Synced 5 W&B file(s), 0 media file(s), 0 artifact file(s) and 0 other file(s)"
      ],
      "text/plain": [
       "<IPython.core.display.HTML object>"
      ]
     },
     "metadata": {},
     "output_type": "display_data"
    },
    {
     "data": {
      "text/html": [
       "Find logs at: <code>./wandb/run-20240707_182508-rj21nzzs/logs</code>"
      ],
      "text/plain": [
       "<IPython.core.display.HTML object>"
      ]
     },
     "metadata": {},
     "output_type": "display_data"
    },
    {
     "data": {
      "text/html": [
       "The new W&B backend becomes opt-out in version 0.18.0; try it out with `wandb.require(\"core\")`! See https://wandb.me/wandb-core for more information."
      ],
      "text/plain": [
       "<IPython.core.display.HTML object>"
      ]
     },
     "metadata": {},
     "output_type": "display_data"
    },
    {
     "data": {
      "text/html": [
       "Successfully finished last run (ID:rj21nzzs). Initializing new run:<br/>"
      ],
      "text/plain": [
       "<IPython.core.display.HTML object>"
      ]
     },
     "metadata": {},
     "output_type": "display_data"
    },
    {
     "data": {
      "application/vnd.jupyter.widget-view+json": {
       "model_id": "776a72543c7e440592c25ca3011e5f53",
       "version_major": 2,
       "version_minor": 0
      },
      "text/plain": [
       "VBox(children=(Label(value='Waiting for wandb.init()...\\r'), FloatProgress(value=0.011135455089000363, max=1.0…"
      ]
     },
     "metadata": {},
     "output_type": "display_data"
    },
    {
     "data": {
      "text/html": [
       "Tracking run with wandb version 0.17.4"
      ],
      "text/plain": [
       "<IPython.core.display.HTML object>"
      ]
     },
     "metadata": {},
     "output_type": "display_data"
    },
    {
     "data": {
      "text/html": [
       "Run data is saved locally in <code>/Users/adamzh0u/315_RL/cege_test/wandb/run-20240707_182516-8gc03she</code>"
      ],
      "text/plain": [
       "<IPython.core.display.HTML object>"
      ]
     },
     "metadata": {},
     "output_type": "display_data"
    },
    {
     "data": {
      "text/html": [
       "Syncing run <strong><a href='https://wandb.ai/adamzh0u/cege_test/runs/8gc03she' target=\"_blank\">agent_always</a></strong> to <a href='https://wandb.ai/adamzh0u/cege_test' target=\"_blank\">Weights & Biases</a> (<a href='https://wandb.me/run' target=\"_blank\">docs</a>)<br/>"
      ],
      "text/plain": [
       "<IPython.core.display.HTML object>"
      ]
     },
     "metadata": {},
     "output_type": "display_data"
    },
    {
     "data": {
      "text/html": [
       " View project at <a href='https://wandb.ai/adamzh0u/cege_test' target=\"_blank\">https://wandb.ai/adamzh0u/cege_test</a>"
      ],
      "text/plain": [
       "<IPython.core.display.HTML object>"
      ]
     },
     "metadata": {},
     "output_type": "display_data"
    },
    {
     "data": {
      "text/html": [
       " View run at <a href='https://wandb.ai/adamzh0u/cege_test/runs/8gc03she' target=\"_blank\">https://wandb.ai/adamzh0u/cege_test/runs/8gc03she</a>"
      ],
      "text/plain": [
       "<IPython.core.display.HTML object>"
      ]
     },
     "metadata": {},
     "output_type": "display_data"
    },
    {
     "data": {
      "application/vnd.jupyter.widget-view+json": {
       "model_id": "469de05dfd474902b17b19602286e9d5",
       "version_major": 2,
       "version_minor": 0
      },
      "text/plain": [
       "VBox(children=(Label(value='0.001 MB of 0.005 MB uploaded\\r'), FloatProgress(value=0.23671013039117353, max=1.…"
      ]
     },
     "metadata": {},
     "output_type": "display_data"
    },
    {
     "data": {
      "text/html": [
       "<style>\n",
       "    table.wandb td:nth-child(1) { padding: 0 10px; text-align: left ; width: auto;} td:nth-child(2) {text-align: left ; width: 100%}\n",
       "    .wandb-row { display: flex; flex-direction: row; flex-wrap: wrap; justify-content: flex-start; width: 100% }\n",
       "    .wandb-col { display: flex; flex-direction: column; flex-basis: 100%; flex: 1; padding: 10px; }\n",
       "    </style>\n",
       "<div class=\"wandb-row\"><div class=\"wandb-col\"><h3>Run history:</h3><br/><table class=\"wandb\"><tr><td>taction</td><td>▁▁▁▁▁▁▁▁▁▁▁▁▁▁▁▁▁▁▁▁▁▁▁▁▁▁▁▁▁▁▁▁▁▁▁▁▁▁▁▁</td></tr><tr><td>tindex</td><td>▁▁▁▁▂▂▂▂▂▃▃▃▃▃▃▄▄▄▄▄▅▅▅▅▅▅▆▆▆▆▆▇▇▇▇▇▇███</td></tr><tr><td>treward</td><td>▁█▁▁▁▁▁█▁▁▁█▁▁▁▁▁▁▁▁▁█▁█▁▁▁▁▁▁▁▁▁▁▁▁█▁▁▁</td></tr><tr><td>tsum_rewards</td><td>████▇▇▇▇▇▇▆▆▆▆▆▆▅▅▅▅▅▄▄▄▄▄▄▃▃▃▃▃▂▂▂▂▂▁▁▁</td></tr></table><br/></div><div class=\"wandb-col\"><h3>Run summary:</h3><br/><table class=\"wandb\"><tr><td>taction</td><td>1</td></tr><tr><td>tindex</td><td>2879</td></tr><tr><td>treward</td><td>-5</td></tr><tr><td>tsum_rewards</td><td>-11955</td></tr></table><br/></div></div>"
      ],
      "text/plain": [
       "<IPython.core.display.HTML object>"
      ]
     },
     "metadata": {},
     "output_type": "display_data"
    },
    {
     "data": {
      "text/html": [
       " View run <strong style=\"color:#cdcd00\">agent_always</strong> at: <a href='https://wandb.ai/adamzh0u/cege_test/runs/8gc03she' target=\"_blank\">https://wandb.ai/adamzh0u/cege_test/runs/8gc03she</a><br/> View project at: <a href='https://wandb.ai/adamzh0u/cege_test' target=\"_blank\">https://wandb.ai/adamzh0u/cege_test</a><br/>Synced 5 W&B file(s), 0 media file(s), 0 artifact file(s) and 0 other file(s)"
      ],
      "text/plain": [
       "<IPython.core.display.HTML object>"
      ]
     },
     "metadata": {},
     "output_type": "display_data"
    },
    {
     "data": {
      "text/html": [
       "Find logs at: <code>./wandb/run-20240707_182516-8gc03she/logs</code>"
      ],
      "text/plain": [
       "<IPython.core.display.HTML object>"
      ]
     },
     "metadata": {},
     "output_type": "display_data"
    },
    {
     "data": {
      "text/html": [
       "The new W&B backend becomes opt-out in version 0.18.0; try it out with `wandb.require(\"core\")`! See https://wandb.me/wandb-core for more information."
      ],
      "text/plain": [
       "<IPython.core.display.HTML object>"
      ]
     },
     "metadata": {},
     "output_type": "display_data"
    }
   ],
   "source": [
    "args = {\n",
    "    'seed': seed,\n",
    "    'num_leaks': num_leaks,\n",
    "}\n",
    "\n",
    "\n",
    "# test on last 30 days\n",
    "env = env_basic.EnvLowR(df, train=False,obs_len=10)\n",
    "agent = agent_nerdy.AgentAlways()\n",
    "\n",
    "_obs = env.reset()\n",
    "done = False\n",
    "\n",
    "sum_rewards = 0\n",
    "while not done:\n",
    "    action = agent.get_action()\n",
    "    _obs, reward, done, info, _ = env.step(action)\n",
    "\n",
    "    # log to wandb\n",
    "    sum_rewards += reward\n",
    "    run.log({'tindex': info['step']-17520, 'taction': action, \"treward\": reward, 'tsum_rewards': sum_rewards})\n",
    "run.finish()"
   ]
  },
  {
   "cell_type": "code",
   "execution_count": 147,
   "metadata": {},
   "outputs": [
    {
     "data": {
      "text/html": [
       "Tracking run with wandb version 0.17.4"
      ],
      "text/plain": [
       "<IPython.core.display.HTML object>"
      ]
     },
     "metadata": {},
     "output_type": "display_data"
    },
    {
     "data": {
      "text/html": [
       "Run data is saved locally in <code>/Users/adamzh0u/315_RL/cege_test/wandb/run-20240707_215518-8acyczbl</code>"
      ],
      "text/plain": [
       "<IPython.core.display.HTML object>"
      ]
     },
     "metadata": {},
     "output_type": "display_data"
    },
    {
     "data": {
      "text/html": [
       "Syncing run <strong><a href='https://wandb.ai/adamzh0u/cege_test/runs/8acyczbl' target=\"_blank\">agent_never</a></strong> to <a href='https://wandb.ai/adamzh0u/cege_test' target=\"_blank\">Weights & Biases</a> (<a href='https://wandb.me/run' target=\"_blank\">docs</a>)<br/>"
      ],
      "text/plain": [
       "<IPython.core.display.HTML object>"
      ]
     },
     "metadata": {},
     "output_type": "display_data"
    },
    {
     "data": {
      "text/html": [
       " View project at <a href='https://wandb.ai/adamzh0u/cege_test' target=\"_blank\">https://wandb.ai/adamzh0u/cege_test</a>"
      ],
      "text/plain": [
       "<IPython.core.display.HTML object>"
      ]
     },
     "metadata": {},
     "output_type": "display_data"
    },
    {
     "data": {
      "text/html": [
       " View run at <a href='https://wandb.ai/adamzh0u/cege_test/runs/8acyczbl' target=\"_blank\">https://wandb.ai/adamzh0u/cege_test/runs/8acyczbl</a>"
      ],
      "text/plain": [
       "<IPython.core.display.HTML object>"
      ]
     },
     "metadata": {},
     "output_type": "display_data"
    },
    {
     "data": {
      "application/vnd.jupyter.widget-view+json": {
       "model_id": "de2626adf1bd4f6c84388423f14e9699",
       "version_major": 2,
       "version_minor": 0
      },
      "text/plain": [
       "VBox(children=(Label(value='0.001 MB of 0.011 MB uploaded\\r'), FloatProgress(value=0.10036573955941142, max=1.…"
      ]
     },
     "metadata": {},
     "output_type": "display_data"
    },
    {
     "data": {
      "text/html": [
       "<style>\n",
       "    table.wandb td:nth-child(1) { padding: 0 10px; text-align: left ; width: auto;} td:nth-child(2) {text-align: left ; width: 100%}\n",
       "    .wandb-row { display: flex; flex-direction: row; flex-wrap: wrap; justify-content: flex-start; width: 100% }\n",
       "    .wandb-col { display: flex; flex-direction: column; flex-basis: 100%; flex: 1; padding: 10px; }\n",
       "    </style>\n",
       "<div class=\"wandb-row\"><div class=\"wandb-col\"><h3>Run history:</h3><br/><table class=\"wandb\"><tr><td>taction</td><td>▁▁▁▁▁▁▁▁▁▁▁▁▁▁▁▁▁▁▁▁▁▁▁▁▁▁▁▁▁▁▁▁▁▁▁▁▁▁▁▁</td></tr><tr><td>tindex</td><td>▁▁▁▁▂▂▂▂▂▃▃▃▃▃▃▄▄▄▄▄▅▅▅▅▅▅▆▆▆▆▆▇▇▇▇▇▇███</td></tr><tr><td>treward</td><td>████████████████████▁█████████▁█████████</td></tr><tr><td>tsum_rewards</td><td>▁▂▂▂▃▃▃▄▄▄▅▅▆▆▆▇▇▇██▇▃▄▄▄▅▅▅▆▆▁▁▁▂▂▂▃▃▃▄</td></tr></table><br/></div><div class=\"wandb-col\"><h3>Run summary:</h3><br/><table class=\"wandb\"><tr><td>taction</td><td>0</td></tr><tr><td>tindex</td><td>2879</td></tr><tr><td>treward</td><td>0.1</td></tr><tr><td>tsum_rewards</td><td>55.7</td></tr></table><br/></div></div>"
      ],
      "text/plain": [
       "<IPython.core.display.HTML object>"
      ]
     },
     "metadata": {},
     "output_type": "display_data"
    },
    {
     "data": {
      "text/html": [
       " View run <strong style=\"color:#cdcd00\">agent_never</strong> at: <a href='https://wandb.ai/adamzh0u/cege_test/runs/8acyczbl' target=\"_blank\">https://wandb.ai/adamzh0u/cege_test/runs/8acyczbl</a><br/> View project at: <a href='https://wandb.ai/adamzh0u/cege_test' target=\"_blank\">https://wandb.ai/adamzh0u/cege_test</a><br/>Synced 5 W&B file(s), 0 media file(s), 0 artifact file(s) and 0 other file(s)"
      ],
      "text/plain": [
       "<IPython.core.display.HTML object>"
      ]
     },
     "metadata": {},
     "output_type": "display_data"
    },
    {
     "data": {
      "text/html": [
       "Find logs at: <code>./wandb/run-20240707_215518-8acyczbl/logs</code>"
      ],
      "text/plain": [
       "<IPython.core.display.HTML object>"
      ]
     },
     "metadata": {},
     "output_type": "display_data"
    },
    {
     "data": {
      "text/html": [
       "The new W&B backend becomes opt-out in version 0.18.0; try it out with `wandb.require(\"core\")`! See https://wandb.me/wandb-core for more information."
      ],
      "text/plain": [
       "<IPython.core.display.HTML object>"
      ]
     },
     "metadata": {},
     "output_type": "display_data"
    }
   ],
   "source": [
    "args = {\n",
    "    'seed': seed,\n",
    "    'num_leaks': num_leaks,\n",
    "}\n",
    "\n",
    "run = wandb.init(name=f'agent_never',project= 'cege_test', config=args, monitor_gym=True)\n",
    "\n",
    "# test on last 30 days\n",
    "env = env_basic.EnvLowR(df, train=False)\n",
    "agent = agent_nerdy.AgentNever()\n",
    "\n",
    "_obs = env.reset()\n",
    "done = False\n",
    "\n",
    "sum_rewards = 0\n",
    "while not done:\n",
    "    action = agent.get_action()\n",
    "    _obs, reward, done, info,_ = env.step(action)\n",
    "\n",
    "    # log to wandb\n",
    "    sum_rewards += reward\n",
    "    run.log({'tindex': info['step']-17520, 'taction': action, \"treward\": reward, 'tsum_rewards': sum_rewards})\n",
    "run.finish()"
   ]
  },
  {
   "cell_type": "markdown",
   "metadata": {},
   "source": [
    "## agent greedy"
   ]
  },
  {
   "cell_type": "code",
   "execution_count": 18,
   "metadata": {},
   "outputs": [],
   "source": [
    "seed = 41\n",
    "num_leaks = 12\n",
    "df = wd.load(seed, num_leaks)\n",
    "epochs = 10"
   ]
  },
  {
   "cell_type": "code",
   "execution_count": 19,
   "metadata": {},
   "outputs": [
    {
     "data": {
      "text/html": [
       "Tracking run with wandb version 0.17.4"
      ],
      "text/plain": [
       "<IPython.core.display.HTML object>"
      ]
     },
     "metadata": {},
     "output_type": "display_data"
    },
    {
     "data": {
      "text/html": [
       "Run data is saved locally in <code>/Users/adamzh0u/315_RL/cege_test/wandb/run-20240707_053058-25rlvpr8</code>"
      ],
      "text/plain": [
       "<IPython.core.display.HTML object>"
      ]
     },
     "metadata": {},
     "output_type": "display_data"
    },
    {
     "data": {
      "text/html": [
       "Syncing run <strong><a href='https://wandb.ai/adamzh0u/cege_test/runs/25rlvpr8' target=\"_blank\">agent_greedy_eps0.4_epoch10</a></strong> to <a href='https://wandb.ai/adamzh0u/cege_test' target=\"_blank\">Weights & Biases</a> (<a href='https://wandb.me/run' target=\"_blank\">docs</a>)<br/>"
      ],
      "text/plain": [
       "<IPython.core.display.HTML object>"
      ]
     },
     "metadata": {},
     "output_type": "display_data"
    },
    {
     "data": {
      "text/html": [
       " View project at <a href='https://wandb.ai/adamzh0u/cege_test' target=\"_blank\">https://wandb.ai/adamzh0u/cege_test</a>"
      ],
      "text/plain": [
       "<IPython.core.display.HTML object>"
      ]
     },
     "metadata": {},
     "output_type": "display_data"
    },
    {
     "data": {
      "text/html": [
       " View run at <a href='https://wandb.ai/adamzh0u/cege_test/runs/25rlvpr8' target=\"_blank\">https://wandb.ai/adamzh0u/cege_test/runs/25rlvpr8</a>"
      ],
      "text/plain": [
       "<IPython.core.display.HTML object>"
      ]
     },
     "metadata": {},
     "output_type": "display_data"
    },
    {
     "name": "stdout",
     "output_type": "stream",
     "text": [
      "record dumped to data/train/eps_greedy_record.npy\n",
      "record loaded from data/train/eps_greedy_record.npy\n"
     ]
    },
    {
     "data": {
      "application/vnd.jupyter.widget-view+json": {
       "model_id": "0bfd4e77a8d84bec9a6afcd66e554752",
       "version_major": 2,
       "version_minor": 0
      },
      "text/plain": [
       "VBox(children=(Label(value='0.001 MB of 0.001 MB uploaded\\r'), FloatProgress(value=1.0, max=1.0)))"
      ]
     },
     "metadata": {},
     "output_type": "display_data"
    },
    {
     "data": {
      "text/html": [
       "<style>\n",
       "    table.wandb td:nth-child(1) { padding: 0 10px; text-align: left ; width: auto;} td:nth-child(2) {text-align: left ; width: 100%}\n",
       "    .wandb-row { display: flex; flex-direction: row; flex-wrap: wrap; justify-content: flex-start; width: 100% }\n",
       "    .wandb-col { display: flex; flex-direction: column; flex-basis: 100%; flex: 1; padding: 10px; }\n",
       "    </style>\n",
       "<div class=\"wandb-row\"><div class=\"wandb-col\"><h3>Run history:</h3><br/><table class=\"wandb\"><tr><td>action</td><td>▁▁▁▁▁▁▁▁▁▁▁▁▁▁▁█▁▁▁█▁▁█▁██▁▁▁▁▁▁█▁▁▁█▁▁█</td></tr><tr><td>index</td><td>▂▄▅▇▁▃▅▇▁▃▆█▂▃▅▇▁▃▅▇▂▄▆█▁▃▅▇▁▃▆█▂▄▆▇▁▃▅█</td></tr><tr><td>reward</td><td>███████████████▁███▁██▁█▁▁██████▁███▁██▁</td></tr><tr><td>sum_rewards</td><td>███▇▇▇▇▇▇▆▆▆▆▆▅▅▅▅▅▅▄▄▄▄▄▄▃▃▃▃▃▃▂▂▂▂▂▁▁▁</td></tr><tr><td>taction</td><td>█▁▁▁▁▁▁▁▁▁█▁▁▁█▁▁▁▁▁▁▁█▁▁▁▁▁▁▁▁▁█▁█▁▁▁▁▁</td></tr><tr><td>tindex</td><td>▁▁▁▁▂▂▂▂▂▃▃▃▃▃▃▄▄▄▄▄▅▅▅▅▅▅▆▆▆▆▆▇▇▇▇▇▇███</td></tr><tr><td>treward</td><td>▁█████████▁███▁███████▁█████████▁█▁█████</td></tr><tr><td>tsum_rewards</td><td>██▇▇▇▇▇▇▆▇▇▇▆▆▆▇▆▆▅▅▅▅▄▄▄▄▄▄▃▃▃▃▂▂▂▂▂▂▁▁</td></tr></table><br/></div><div class=\"wandb-col\"><h3>Run summary:</h3><br/><table class=\"wandb\"><tr><td>action</td><td>0</td></tr><tr><td>index</td><td>17520</td></tr><tr><td>reward</td><td>1</td></tr><tr><td>sum_rewards</td><td>-38940</td></tr><tr><td>taction</td><td>0</td></tr><tr><td>tindex</td><td>2879</td></tr><tr><td>treward</td><td>1</td></tr><tr><td>tsum_rewards</td><td>-612</td></tr></table><br/></div></div>"
      ],
      "text/plain": [
       "<IPython.core.display.HTML object>"
      ]
     },
     "metadata": {},
     "output_type": "display_data"
    },
    {
     "data": {
      "text/html": [
       " View run <strong style=\"color:#cdcd00\">agent_greedy_eps0.4_epoch10</strong> at: <a href='https://wandb.ai/adamzh0u/cege_test/runs/25rlvpr8' target=\"_blank\">https://wandb.ai/adamzh0u/cege_test/runs/25rlvpr8</a><br/> View project at: <a href='https://wandb.ai/adamzh0u/cege_test' target=\"_blank\">https://wandb.ai/adamzh0u/cege_test</a><br/>Synced 6 W&B file(s), 0 media file(s), 0 artifact file(s) and 0 other file(s)"
      ],
      "text/plain": [
       "<IPython.core.display.HTML object>"
      ]
     },
     "metadata": {},
     "output_type": "display_data"
    },
    {
     "data": {
      "text/html": [
       "Find logs at: <code>./wandb/run-20240707_053058-25rlvpr8/logs</code>"
      ],
      "text/plain": [
       "<IPython.core.display.HTML object>"
      ]
     },
     "metadata": {},
     "output_type": "display_data"
    },
    {
     "data": {
      "text/html": [
       "The new W&B backend becomes opt-out in version 0.18.0; try it out with `wandb.require(\"core\")`! See https://wandb.me/wandb-core for more information."
      ],
      "text/plain": [
       "<IPython.core.display.HTML object>"
      ]
     },
     "metadata": {},
     "output_type": "display_data"
    }
   ],
   "source": [
    "args = {\n",
    "    'seed': seed,\n",
    "    'num_leaks': num_leaks,\n",
    "    'eps': 0,\n",
    "    'epochs': epochs\n",
    "}\n",
    "\n",
    "\n",
    "for eps in [0.01, 0.05, 0.1, 0.2, 0.4]:\n",
    "    args['eps'] = eps\n",
    "\n",
    "    run = wandb.init(name=f'agent_greedy_eps{eps}_epoch{epochs}',project= 'cege_test', config=args, monitor_gym=True)\n",
    "\n",
    "    env = env_basic.WaterLeakEnv(df, train=True)\n",
    "    agent = agent_greedy.AgentGreedy()\n",
    "    # train \n",
    "    sum_rewards = 0\n",
    "    for i in range(epochs):\n",
    "        _obs = env.reset()\n",
    "        done = False\n",
    "        while not done:\n",
    "            action = agent.update(eps=eps)\n",
    "            _obs, reward, done, info = env.step(action)\n",
    "            agent.update_record(action, reward)\n",
    "\n",
    "            # log to wandb\n",
    "            sum_rewards += reward\n",
    "            run.log({'index': info['step'], 'action': action, \"reward\": reward, 'sum_rewards': sum_rewards})\n",
    "        # dump record each epoch\n",
    "        run.log({'record': agent.record})\n",
    "    # memory dump\n",
    "    agent.dump_record()\n",
    "\n",
    "    # test on last 30 days\n",
    "    env = env_basic.WaterLeakEnv(df, train=False)\n",
    "    agent = agent_greedy.AgentGreedy()\n",
    "    agent.load_record() # load memory\n",
    "\n",
    "    _obs = env.reset()\n",
    "    done = False\n",
    "\n",
    "    sum_rewards = 0\n",
    "    while not done:\n",
    "        action = agent.get_action(eps=eps)\n",
    "        _obs, reward, done, info = env.step(action)\n",
    "        \n",
    "        # log to wandb\n",
    "        sum_rewards += reward\n",
    "        run.log({'tindex': info['step']-17520, 'taction': action, \"treward\": reward, 'tsum_rewards': sum_rewards})\n",
    "    run.finish()"
   ]
  },
  {
   "cell_type": "code",
   "execution_count": 55,
   "metadata": {},
   "outputs": [],
   "source": [
    "actor_lr = 1e-3\n",
    "critic_lr = 1e-2\n",
    "num_episodes = 200\n",
    "hidden_dim = 128\n",
    "gamma = 0.98\n",
    "lmbda = 0.95\n",
    "epochs = 10\n",
    "eps = 0.2\n",
    "device = torch.device(\"cuda\") if torch.cuda.is_available() else torch.device(\"cpu\")\n",
    "\n",
    "torch.manual_seed(0)\n",
    "\n",
    "seed = 42\n",
    "num_leaks = 12\n",
    "df = wd.load(seed, num_leaks)\n",
    "\n",
    "state_dim = env.observation_space.shape[0]\n",
    "action_dim = env.action_space.n\n",
    "\n",
    "\n",
    "# return_list,agent = train_on_policy_agent(env, agent, num_episodes)\n",
    "\n",
    "# load \n",
    "agent = agent_ppo.PPO(state_dim, hidden_dim, action_dim, actor_lr, critic_lr, lmbda,\n",
    "            epochs, eps, gamma, device)\n",
    "agent.load(str(const.PATH_DATA/'train/ppo'))\n",
    "env = env_basic.WaterLeakEnv(df, train=False, obs_len=10)\n",
    "\n",
    "state, info = env.reset()\n",
    "done = False\n",
    "sum_rewards = 0\n",
    "while not done:\n",
    "    action = agent.take_action(state)\n",
    "    state, reward, done, info, _ = env.step(action)\n",
    "    \n",
    "    # log to wandb\n",
    "    sum_rewards += reward\n",
    "    # run.log({'tindex': info['step']-17520, 'taction': action, \"treward\": reward, 'tsum_rewards': sum_rewards})\n",
    "# run.finish()\n"
   ]
  },
  {
   "cell_type": "code",
   "execution_count": 145,
   "metadata": {},
   "outputs": [
    {
     "data": {
      "text/plain": [
       "180.0"
      ]
     },
     "execution_count": 145,
     "metadata": {},
     "output_type": "execute_result"
    }
   ],
   "source": [
    "200/10 * i + "
   ]
  },
  {
   "cell_type": "markdown",
   "metadata": {},
   "source": [
    "## PPO"
   ]
  },
  {
   "cell_type": "code",
   "execution_count": 122,
   "metadata": {},
   "outputs": [],
   "source": [
    "\n",
    "seed = 142\n",
    "num_leaks = 12\n",
    "df = wd.load(seed, num_leaks)"
   ]
  },
  {
   "cell_type": "code",
   "execution_count": 138,
   "metadata": {},
   "outputs": [],
   "source": [
    "wobs = df.iloc[45:57,:].WaterDemandWithLeaks.values"
   ]
  },
  {
   "cell_type": "code",
   "execution_count": 142,
   "metadata": {},
   "outputs": [
    {
     "data": {
      "text/plain": [
       "array([5.13019989, 3.20504142, 5.55516704, 5.72289471, 0.96120466,\n",
       "       0.12571989, 0.10651728, 0.17049855, 0.09836877, 0.09548576,\n",
       "       0.56851048, 0.54645492])"
      ]
     },
     "execution_count": 142,
     "metadata": {},
     "output_type": "execute_result"
    }
   ],
   "source": [
    "wobs"
   ]
  },
  {
   "cell_type": "code",
   "execution_count": 141,
   "metadata": {},
   "outputs": [
    {
     "data": {
      "text/plain": [
       "array([5.13019989, 3.20504142, 5.55516704, 5.72289471, 0.96120466,\n",
       "       0.12571989, 0.10651728, 0.17049855, 0.09836877, 0.09548576,\n",
       "       0.56851048, 0.54645492])"
      ]
     },
     "execution_count": 141,
     "metadata": {},
     "output_type": "execute_result"
    }
   ],
   "source": [
    "multiplier = np.abs(wobs[-1]/wobs[-6:-1])\n",
    "wobs[:5] = multiplier\n",
    "wobsdd"
   ]
  },
  {
   "cell_type": "code",
   "execution_count": 140,
   "metadata": {},
   "outputs": [
    {
     "data": {
      "text/plain": [
       "array([5.13019989, 3.20504142, 5.55516704, 5.72289471, 0.96120466])"
      ]
     },
     "execution_count": 140,
     "metadata": {},
     "output_type": "execute_result"
    }
   ],
   "source": [
    "np.abs(wobs[-1]/wobs[-6:-1])"
   ]
  },
  {
   "cell_type": "code",
   "execution_count": 107,
   "metadata": {},
   "outputs": [
    {
     "data": {
      "text/html": [
       "<div>\n",
       "<style scoped>\n",
       "    .dataframe tbody tr th:only-of-type {\n",
       "        vertical-align: middle;\n",
       "    }\n",
       "\n",
       "    .dataframe tbody tr th {\n",
       "        vertical-align: top;\n",
       "    }\n",
       "\n",
       "    .dataframe thead th {\n",
       "        text-align: right;\n",
       "    }\n",
       "</style>\n",
       "<table border=\"1\" class=\"dataframe\">\n",
       "  <thead>\n",
       "    <tr style=\"text-align: right;\">\n",
       "      <th></th>\n",
       "      <th>Timestamp</th>\n",
       "      <th>WaterDemandWithLeaks</th>\n",
       "      <th>LeakageLabel</th>\n",
       "    </tr>\n",
       "  </thead>\n",
       "  <tbody>\n",
       "    <tr>\n",
       "      <th>112</th>\n",
       "      <td>2024-01-02 04:00:00</td>\n",
       "      <td>0.333383</td>\n",
       "      <td>1.0</td>\n",
       "    </tr>\n",
       "    <tr>\n",
       "      <th>113</th>\n",
       "      <td>2024-01-02 04:15:00</td>\n",
       "      <td>0.495114</td>\n",
       "      <td>1.0</td>\n",
       "    </tr>\n",
       "    <tr>\n",
       "      <th>114</th>\n",
       "      <td>2024-01-02 04:30:00</td>\n",
       "      <td>0.364300</td>\n",
       "      <td>1.0</td>\n",
       "    </tr>\n",
       "    <tr>\n",
       "      <th>115</th>\n",
       "      <td>2024-01-02 04:45:00</td>\n",
       "      <td>0.478699</td>\n",
       "      <td>1.0</td>\n",
       "    </tr>\n",
       "    <tr>\n",
       "      <th>116</th>\n",
       "      <td>2024-01-02 05:00:00</td>\n",
       "      <td>0.375557</td>\n",
       "      <td>1.0</td>\n",
       "    </tr>\n",
       "    <tr>\n",
       "      <th>...</th>\n",
       "      <td>...</td>\n",
       "      <td>...</td>\n",
       "      <td>...</td>\n",
       "    </tr>\n",
       "    <tr>\n",
       "      <th>20171</th>\n",
       "      <td>2024-07-29 02:45:00</td>\n",
       "      <td>-0.179265</td>\n",
       "      <td>1.0</td>\n",
       "    </tr>\n",
       "    <tr>\n",
       "      <th>20172</th>\n",
       "      <td>2024-07-29 03:00:00</td>\n",
       "      <td>-0.137870</td>\n",
       "      <td>1.0</td>\n",
       "    </tr>\n",
       "    <tr>\n",
       "      <th>20173</th>\n",
       "      <td>2024-07-29 03:15:00</td>\n",
       "      <td>-0.139828</td>\n",
       "      <td>1.0</td>\n",
       "    </tr>\n",
       "    <tr>\n",
       "      <th>20174</th>\n",
       "      <td>2024-07-29 03:30:00</td>\n",
       "      <td>-0.159243</td>\n",
       "      <td>1.0</td>\n",
       "    </tr>\n",
       "    <tr>\n",
       "      <th>20175</th>\n",
       "      <td>2024-07-29 03:45:00</td>\n",
       "      <td>-0.145374</td>\n",
       "      <td>1.0</td>\n",
       "    </tr>\n",
       "  </tbody>\n",
       "</table>\n",
       "<p>782 rows × 3 columns</p>\n",
       "</div>"
      ],
      "text/plain": [
       "                 Timestamp  WaterDemandWithLeaks  LeakageLabel\n",
       "112    2024-01-02 04:00:00              0.333383           1.0\n",
       "113    2024-01-02 04:15:00              0.495114           1.0\n",
       "114    2024-01-02 04:30:00              0.364300           1.0\n",
       "115    2024-01-02 04:45:00              0.478699           1.0\n",
       "116    2024-01-02 05:00:00              0.375557           1.0\n",
       "...                    ...                   ...           ...\n",
       "20171  2024-07-29 02:45:00             -0.179265           1.0\n",
       "20172  2024-07-29 03:00:00             -0.137870           1.0\n",
       "20173  2024-07-29 03:15:00             -0.139828           1.0\n",
       "20174  2024-07-29 03:30:00             -0.159243           1.0\n",
       "20175  2024-07-29 03:45:00             -0.145374           1.0\n",
       "\n",
       "[782 rows x 3 columns]"
      ]
     },
     "execution_count": 107,
     "metadata": {},
     "output_type": "execute_result"
    }
   ],
   "source": [
    "df[df.LeakageLabel==1]"
   ]
  },
  {
   "cell_type": "code",
   "execution_count": 110,
   "metadata": {},
   "outputs": [],
   "source": [
    "env = env_basic.EnvBasic(df, train=False, obs_len=10)\n",
    "obs = env.reset()"
   ]
  },
  {
   "cell_type": "code",
   "execution_count": 191,
   "metadata": {},
   "outputs": [
    {
     "name": "stdout",
     "output_type": "stream",
     "text": [
      "166.79999999998816 189.89999999999046\n"
     ]
    }
   ],
   "source": [
    "df = wd.load(243, 12)\n",
    "env = env_basic.EnvLowR(df, train=False, obs_len=10)\n",
    "env.train = False\n",
    "\n",
    "import src.agents.agent_dqn as agent_dqn\n",
    "agent = agent_dqn.AgentDQN(state_dim=10)\n",
    "agent.load(str(const.PATH_DATA/'train/dqn'))\n",
    "\n",
    "reward_2 = agent_dqn.test_agent(env, agent,track=False)\n",
    "\n",
    "import src.agents.agent_nerdy as agent_nerdy\n",
    "agent = agent_nerdy.AgentNever()\n",
    "\n",
    "reward_1 = agent_dqn.test_agent(env, agent,track=False)\n",
    "\n",
    "print(reward_1, reward_2)"
   ]
  }
 ],
 "metadata": {
  "kernelspec": {
   "display_name": "py310_dl",
   "language": "python",
   "name": "python3"
  },
  "language_info": {
   "codemirror_mode": {
    "name": "ipython",
    "version": 3
   },
   "file_extension": ".py",
   "mimetype": "text/x-python",
   "name": "python",
   "nbconvert_exporter": "python",
   "pygments_lexer": "ipython3",
   "version": "3.10.14"
  }
 },
 "nbformat": 4,
 "nbformat_minor": 2
}
