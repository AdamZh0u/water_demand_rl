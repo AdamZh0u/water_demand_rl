{
 "cells": [
  {
   "cell_type": "code",
   "execution_count": null,
   "metadata": {},
   "outputs": [],
   "source": [
    "%load_ext autoreload\n",
    "%autoreload 2\n",
    "\n",
    "from pathlib import Path\n",
    "import warnings \n",
    "warnings.filterwarnings(\"ignore\")\n",
    "Path.cwd()"
   ]
  },
  {
   "cell_type": "markdown",
   "metadata": {},
   "source": [
    "## Test Data Generation"
   ]
  },
  {
   "cell_type": "code",
   "execution_count": null,
   "metadata": {},
   "outputs": [],
   "source": [
    "from statsmodels.tsa.arima.model import ARIMA\n",
    "import numpy as np\n",
    "n_points = 10000\n",
    "p, d, q = 5, 2, 5\n",
    "model = ARIMA(np.random.randn(n_points), order=(p, d, q))\n",
    "model_fit = model.fit()\n",
    "water_demand = model_fit.predict(start=0, end=n_points-1)"
   ]
  },
  {
   "cell_type": "code",
   "execution_count": null,
   "metadata": {},
   "outputs": [],
   "source": [
    "print(model_fit.summary())"
   ]
  },
  {
   "cell_type": "code",
   "execution_count": null,
   "metadata": {},
   "outputs": [],
   "source": [
    "water_demand[100:].min(), water_demand[100:].max()"
   ]
  },
  {
   "cell_type": "markdown",
   "metadata": {},
   "source": [
    "## genertate data "
   ]
  },
  {
   "cell_type": "markdown",
   "metadata": {},
   "source": [
    "- seed > 100  leak_increase_range=(5, 10)\n",
    "- seed > 200 leak_increase_range=(4,8)"
   ]
  },
  {
   "cell_type": "code",
   "execution_count": null,
   "metadata": {},
   "outputs": [],
   "source": [
    "# generate 10 independent water demands data \n",
    "# for seed in range(50):\n",
    "for seed in range(242,247):\n",
    "    num_leaks = 12\n",
    "    df = wd.simulation(seed, num_leaks)\n",
    "    wd.save(df, seed, num_leaks)"
   ]
  },
  {
   "cell_type": "markdown",
   "metadata": {},
   "source": [
    "## Change leakage rate range"
   ]
  },
  {
   "cell_type": "code",
   "execution_count": null,
   "metadata": {},
   "outputs": [],
   "source": [
    "## window size\n",
    "dft =  wd.load(43, 12) \n",
    "ws = 10\n",
    "dft['rolling_mean'] = dft['WaterDemandWithLeaks'].rolling(window=ws,center=True).mean()\n",
    "\n",
    "dft2 = wd.load(243, 12)\n",
    "dft2['rolling_mean'] = dft2['WaterDemandWithLeaks'].rolling(window=ws,center=True).mean()\n",
    "\n",
    "import src.utils.plot_utils as pu\n",
    "import matplotlib.pyplot as plt\n",
    "pu.setup_mpl(as_default=0)\n",
    "\n",
    "dfp = dft[1100:1200]\n",
    "dfp2 = dft2[3880:3980]\n",
    "\n",
    "fig,ax = plt.subplots(1,2, figsize=(3.60236*2, 3.5),dpi=300)\n",
    "\n",
    "ax[0].plot(dfp.index, dfp['WaterDemandWithLeaks'],\n",
    "            label='Water Demand with Leaks', alpha=0.75)\n",
    "ax[0].scatter(dfp[dfp['LeakageLabel'] == 1].index, dfp[dfp['LeakageLabel']\n",
    "            == 1]['WaterDemandWithLeaks'], color='red', label='Leakages',s=3)\n",
    "ax[0].plot(dfp.index, dfp['rolling_mean'], label='Rolling Mean', color='black')\n",
    "ax[0].legend()\n",
    "ax[0].set_xlabel('Time')\n",
    "ax[0].set_ylabel('Normalized Water Demand')\n",
    "ax[0].set_title('Leakages Increasing Range from 0.5 to 1')\n",
    "\n",
    "ax[1].plot(dfp2.index, dfp2['WaterDemandWithLeaks'],\n",
    "            label='Water Demand with Leaks', alpha=0.75)\n",
    "ax[1].scatter(dfp2[dfp2['LeakageLabel'] == 1].index, dfp2[dfp2['LeakageLabel']\n",
    "            == 1]['WaterDemandWithLeaks'], color='red', label='Leakages',s=3)   \n",
    "ax[1].plot(dfp2.index, dfp2['rolling_mean'], label='Rolling Mean', color='black')\n",
    "ax[1].legend()\n",
    "\n",
    "ax[1].set_xlabel('Time')\n",
    "ax[1].set_ylabel('Normalized Water Demand')\n",
    "ax[1].set_title('Leakages Increasing Range from 4 to 8')\n",
    "\n",
    "for i in range(2):\n",
    "    # label A B \n",
    "    ax[i].text(-0.1, 1.05, chr(65+i), transform=ax[i].transAxes,\n",
    "            size=12, weight='bold')\n",
    "fig.savefig('fig/leakages_increasing_range.png', bbox_inches='tight')"
   ]
  }
 ],
 "metadata": {
  "kernelspec": {
   "display_name": "py10",
   "language": "python",
   "name": "python3"
  },
  "language_info": {
   "codemirror_mode": {
    "name": "ipython",
    "version": 3
   },
   "file_extension": ".py",
   "mimetype": "text/x-python",
   "name": "python",
   "nbconvert_exporter": "python",
   "pygments_lexer": "ipython3",
   "version": "3.10.14"
  },
  "orig_nbformat": 4,
  "vscode": {
   "interpreter": {
    "hash": "3018e8824340e106625923d9da10977e94c378a6185dd4456db306b0f6027436"
   }
  }
 },
 "nbformat": 4,
 "nbformat_minor": 2
}
